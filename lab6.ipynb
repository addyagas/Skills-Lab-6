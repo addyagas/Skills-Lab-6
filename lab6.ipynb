{
 "cells": [
  {
   "cell_type": "code",
   "execution_count": 3,
   "id": "4c1e750e-b43d-44c1-a620-81b2b18917e4",
   "metadata": {},
   "outputs": [
    {
     "name": "stdout",
     "output_type": "stream",
     "text": [
      "hello! My name is  Amelia\n"
     ]
    }
   ],
   "source": [
    "word = \"hello!\"\n",
    "sentence = \"My name is \"\n",
    "nameOne = \"Amelia\"\n",
    "print(word,sentence,nameOne)"
   ]
  },
  {
   "cell_type": "code",
   "execution_count": null,
   "id": "45ca652a-15c1-4231-b9c4-169e324e31b6",
   "metadata": {},
   "outputs": [],
   "source": []
  }
 ],
 "metadata": {
  "kernelspec": {
   "display_name": "Python 3 (ipykernel)",
   "language": "python",
   "name": "python3"
  },
  "language_info": {
   "codemirror_mode": {
    "name": "ipython",
    "version": 3
   },
   "file_extension": ".py",
   "mimetype": "text/x-python",
   "name": "python",
   "nbconvert_exporter": "python",
   "pygments_lexer": "ipython3",
   "version": "3.12.4"
  }
 },
 "nbformat": 4,
 "nbformat_minor": 5
}
